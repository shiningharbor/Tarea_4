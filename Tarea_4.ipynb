{
  "nbformat": 4,
  "nbformat_minor": 0,
  "metadata": {
    "colab": {
      "name": "Tarea 4.ipynb",
      "provenance": [],
      "authorship_tag": "ABX9TyONxTcssLaEW0pCTMuPMudv",
      "include_colab_link": true
    },
    "kernelspec": {
      "name": "python3",
      "display_name": "Python 3"
    }
  },
  "cells": [
    {
      "cell_type": "markdown",
      "metadata": {
        "id": "view-in-github",
        "colab_type": "text"
      },
      "source": [
        "<a href=\"https://colab.research.google.com/github/shiningharbor/Tarea_4/blob/main/Tarea_4.ipynb\" target=\"_parent\"><img src=\"https://colab.research.google.com/assets/colab-badge.svg\" alt=\"Open In Colab\"/></a>"
      ]
    },
    {
      "cell_type": "code",
      "metadata": {
        "colab": {
          "base_uri": "https://localhost:8080/"
        },
        "id": "WwblTQT05Cwu",
        "outputId": "b2c237d4-317c-4c9a-c4a3-cbe01a1c7ff6"
      },
      "source": [
        "#Ejercicio 2.4\n",
        "print(\"Ingrese el nombre del trabajador: \")\n",
        "nombre=str (input())\n",
        "print(\"Ingrese el sueldo del trabajador\", nombre, \": \")\n",
        "Sueldo=float (input())\n",
        "\n",
        "if (Sueldo<1000):\n",
        "  NSueldo1=Sueldo*1.15\n",
        "  print(nombre, \"Su Sueldo es $\", NSueldo1)\n",
        "\n",
        "else: \n",
        "  Sueldo>=1000\n",
        "  NSueldo2=Sueldo*1.12\n",
        "  print(nombre, \"Su Sueldo es $\", NSueldo2)"
      ],
      "execution_count": 10,
      "outputs": [
        {
          "output_type": "stream",
          "text": [
            "Ingrese el nombre del trabajador: \n",
            "juan\n",
            "Ingrese el sueldo del trabajador juan : \n",
            "570\n",
            "juan Su Sueldo es $ 655.5\n"
          ],
          "name": "stdout"
        }
      ]
    },
    {
      "cell_type": "code",
      "metadata": {
        "colab": {
          "base_uri": "https://localhost:8080/"
        },
        "id": "hhlnKMAD-bm0",
        "outputId": "759c2f48-4c1c-42b4-ad45-3b5ca0c3e014"
      },
      "source": [
        "#Ejercicio 2.8\n",
        "CATE=int(input(\"Ingrese la categoria:\"\"\\n\"))\n",
        "SUE=float(input(\"Ingrese el sueldo:\"\"\\n\"))\n",
        "\n",
        "if (CATE== 1):\n",
        "  NSueldol=SUE*1.15\n",
        "  print(\"categoria:\",CATE,\"\\n\" \"El sueldo final del tabajador es:\" \"\\n\" \"$\", NSueldol)\n",
        "\n",
        "elif (CATE == 2):\n",
        "  NSueldo2=SUE*1.10\n",
        "  print(\"categoria: \",CATE,\"\\n\" \"El sueldo final del tabajador es: \\n\" \"$\", NSueldo2)\n",
        "\n",
        "elif (CATE == 3):\n",
        "  NSueldo3=SUE*1.08\n",
        "  print(\"categoria: \",CATE,\"\\n\" \"El sueldo final del tabajador es: \\n\" \"$\", NSueldo3)\n",
        "\n",
        "else:\n",
        "  CATE == 4\n",
        "  NSueldo4=SUE *1.07\n",
        "  print(\"categoria: \",CATE,\"\\n\" \"El sueldo final del tabajador es: \\n\" \"$\", NSueldo4)"
      ],
      "execution_count": 22,
      "outputs": [
        {
          "output_type": "stream",
          "text": [
            "Ingrese la categoria:\n",
            "1\n",
            "Ingrese el sueldo:\n",
            "150\n",
            "categoria: 1 \n",
            "El sueldo final del tabajador es:\n",
            "$ 172.5\n"
          ],
          "name": "stdout"
        }
      ]
    }
  ]
}